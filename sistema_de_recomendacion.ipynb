{
  "cells": [
    {
      "cell_type": "markdown",
      "metadata": {
        "id": "EdILuyLgml_R"
      },
      "source": [
        "# Sistema de recomendación para E-Commerce\n"
      ]
    },
    {
      "cell_type": "markdown",
      "metadata": {
        "id": "m-26iTTympFi"
      },
      "source": [
        "## Librerias"
      ]
    },
    {
      "cell_type": "code",
      "execution_count": 96,
      "metadata": {
        "id": "2tSOMad1mlsK"
      },
      "outputs": [],
      "source": [
        "import warnings\n",
        "warnings.filterwarnings('ignore')\n",
        "import numpy as np\n",
        "import pandas as pd\n",
        "import matplotlib.pyplot as plt\n",
        "import seaborn as sns\n",
        "from sklearn.metrics.pairwise import cosine_similarity\n",
        "from sklearn.metrics import mean_squared_error\n",
        "from scipy.sparse.linalg import svds "
      ]
    },
    {
      "cell_type": "markdown",
      "metadata": {
        "id": "_eRqhkyAmvFJ"
      },
      "source": [
        "## Dataset"
      ]
    },
    {
      "cell_type": "code",
      "execution_count": 97,
      "metadata": {
        "id": "mnM0NIFemhh0"
      },
      "outputs": [
        {
          "data": {
            "text/html": [
              "<div>\n",
              "<style scoped>\n",
              "    .dataframe tbody tr th:only-of-type {\n",
              "        vertical-align: middle;\n",
              "    }\n",
              "\n",
              "    .dataframe tbody tr th {\n",
              "        vertical-align: top;\n",
              "    }\n",
              "\n",
              "    .dataframe thead th {\n",
              "        text-align: right;\n",
              "    }\n",
              "</style>\n",
              "<table border=\"1\" class=\"dataframe\">\n",
              "  <thead>\n",
              "    <tr style=\"text-align: right;\">\n",
              "      <th></th>\n",
              "      <th>user_id</th>\n",
              "      <th>prod_id</th>\n",
              "      <th>rating</th>\n",
              "    </tr>\n",
              "  </thead>\n",
              "  <tbody>\n",
              "    <tr>\n",
              "      <th>0</th>\n",
              "      <td>194</td>\n",
              "      <td>24827</td>\n",
              "      <td>5.0</td>\n",
              "    </tr>\n",
              "    <tr>\n",
              "      <th>1</th>\n",
              "      <td>871</td>\n",
              "      <td>32271</td>\n",
              "      <td>5.0</td>\n",
              "    </tr>\n",
              "    <tr>\n",
              "      <th>2</th>\n",
              "      <td>1111</td>\n",
              "      <td>26862</td>\n",
              "      <td>5.0</td>\n",
              "    </tr>\n",
              "    <tr>\n",
              "      <th>3</th>\n",
              "      <td>544</td>\n",
              "      <td>22210</td>\n",
              "      <td>5.0</td>\n",
              "    </tr>\n",
              "    <tr>\n",
              "      <th>4</th>\n",
              "      <td>1042</td>\n",
              "      <td>40560</td>\n",
              "      <td>4.0</td>\n",
              "    </tr>\n",
              "  </tbody>\n",
              "</table>\n",
              "</div>"
            ],
            "text/plain": [
              "   user_id  prod_id  rating\n",
              "0      194    24827     5.0\n",
              "1      871    32271     5.0\n",
              "2     1111    26862     5.0\n",
              "3      544    22210     5.0\n",
              "4     1042    40560     4.0"
            ]
          },
          "execution_count": 97,
          "metadata": {},
          "output_type": "execute_result"
        }
      ],
      "source": [
        "data = pd.read_csv('nuevo_ratings.csv') \n",
        "data.head()"
      ]
    },
    {
      "cell_type": "code",
      "execution_count": 98,
      "metadata": {},
      "outputs": [],
      "source": [
        "# Crear diccionarios de mapeo para user_id y prod_id\n",
        "#user_id_mapping = {user_id: idx for idx, user_id in enumerate(df_copy['user_id'].unique())}\n",
        "#prod_id_mapping = {prod_id: idx for idx, prod_id in enumerate(df_copy['prod_id'].unique())}\n",
        "#\n",
        "## Aplicar mapeo a las columnas user_id y prod_id\n",
        "#df_copy['user_id'] = df_copy['user_id'].map(user_id_mapping)\n",
        "#df_copy['prod_id'] = df_copy['prod_id'].map(prod_id_mapping)\n",
        "#df_copy = df_copy.sample(20000)\n",
        "## Guardar el DataFrame resultante en un nuevo archivo CSV\n",
        "#df_copy.to_csv('nuevo_archivo.csv', index=False)\n"
      ]
    },
    {
      "cell_type": "code",
      "execution_count": 99,
      "metadata": {
        "colab": {
          "base_uri": "https://localhost:8080/"
        },
        "id": "BR0rkn1hm5Ii",
        "outputId": "b725b51e-a8d4-4786-c853-aaeb70a2da9b"
      },
      "outputs": [
        {
          "data": {
            "text/plain": [
              "(20000, 3)"
            ]
          },
          "execution_count": 99,
          "metadata": {},
          "output_type": "execute_result"
        }
      ],
      "source": [
        "data.shape\n"
      ]
    },
    {
      "cell_type": "code",
      "execution_count": 100,
      "metadata": {
        "colab": {
          "base_uri": "https://localhost:8080/"
        },
        "id": "VSZphiYsnB7h",
        "outputId": "32ed764d-62be-4b8b-b83a-942128032636"
      },
      "outputs": [
        {
          "data": {
            "text/plain": [
              "user_id      int64\n",
              "prod_id      int64\n",
              "rating     float64\n",
              "dtype: object"
            ]
          },
          "execution_count": 100,
          "metadata": {},
          "output_type": "execute_result"
        }
      ],
      "source": [
        "data.dtypes"
      ]
    },
    {
      "cell_type": "code",
      "execution_count": 101,
      "metadata": {
        "colab": {
          "base_uri": "https://localhost:8080/"
        },
        "id": "TmDkgSH-nG-w",
        "outputId": "b86286cf-692f-4487-a8eb-3ab912d36fea"
      },
      "outputs": [
        {
          "data": {
            "text/plain": [
              "user_id    0\n",
              "prod_id    0\n",
              "rating     0\n",
              "dtype: int64"
            ]
          },
          "execution_count": 101,
          "metadata": {},
          "output_type": "execute_result"
        }
      ],
      "source": [
        "data.isnull().sum()"
      ]
    },
    {
      "cell_type": "markdown",
      "metadata": {
        "id": "_hoBfcSmncDJ"
      },
      "source": [
        "### Usuarios unicos y productos unicos"
      ]
    },
    {
      "cell_type": "code",
      "execution_count": 102,
      "metadata": {
        "colab": {
          "base_uri": "https://localhost:8080/"
        },
        "id": "bTzXXqwrnZKh",
        "outputId": "f6dac2c0-588d-49d8-c760-258a049341aa"
      },
      "outputs": [
        {
          "name": "stdout",
          "output_type": "stream",
          "text": [
            "Usuarios unicos=  1540\n",
            "Productos unicos =  13269\n"
          ]
        }
      ],
      "source": [
        "print('Usuarios unicos= ', data['user_id'].nunique())\n",
        "print('Productos unicos = ', data['prod_id'].nunique())"
      ]
    },
    {
      "cell_type": "markdown",
      "metadata": {
        "id": "PhOahvbHnkZJ"
      },
      "source": [
        "### Usuarios que mas reviews dejaron "
      ]
    },
    {
      "cell_type": "code",
      "execution_count": 103,
      "metadata": {
        "colab": {
          "base_uri": "https://localhost:8080/"
        },
        "id": "DZ80koFAngO4",
        "outputId": "45ec9525-fff5-4dbc-8319-43cbbc5df884"
      },
      "outputs": [
        {
          "data": {
            "text/plain": [
              "user_id\n",
              "18     88\n",
              "43     79\n",
              "179    72\n",
              "84     68\n",
              "379    63\n",
              "69     62\n",
              "471    51\n",
              "568    51\n",
              "95     50\n",
              "28     49\n",
              "dtype: int64"
            ]
          },
          "execution_count": 103,
          "metadata": {},
          "output_type": "execute_result"
        }
      ],
      "source": [
        "# Top 10 \n",
        "mas_ratearon = data.groupby('user_id').size().sort_values(ascending=False)[:10]\n",
        "mas_ratearon"
      ]
    },
    {
      "cell_type": "code",
      "execution_count": 104,
      "metadata": {},
      "outputs": [
        {
          "data": {
            "image/png": "[encoded data removed]",
            "text/plain": [
              "<Figure size 800x600 with 1 Axes>"
            ]
          },
          "metadata": {},
          "output_type": "display_data"
        }
      ],
      "source": [
        "plt.figure(figsize=(8, 6))\n",
        "sns.histplot(data['rating'], bins=5, kde=False, color='skyblue')\n",
        "plt.title('Distribution of Ratings')\n",
        "plt.xlabel('Rating')\n",
        "plt.ylabel('Count')\n",
        "plt.show()\n"
      ]
    },
    {
      "cell_type": "markdown",
      "metadata": {
        "id": "ekGg2mL5oaNA"
      },
      "source": [
        "## Pre-procesamiento\n",
        "\n",
        "Voy a recortar el dataset, dejando unicamente aquellos usuarios con más de 50 ratings. De esta manera el set de datos será más parejo y rico para trabajar."
      ]
    },
    {
      "cell_type": "code",
      "execution_count": 105,
      "metadata": {
        "id": "k3T1weHIodDw"
      },
      "outputs": [],
      "source": [
        "usuarios_counts = data['user_id'].value_counts()"
      ]
    },
    {
      "cell_type": "code",
      "execution_count": 106,
      "metadata": {},
      "outputs": [
        {
          "data": {
            "text/plain": [
              "(20000, 3)"
            ]
          },
          "execution_count": 106,
          "metadata": {},
          "output_type": "execute_result"
        }
      ],
      "source": [
        "data.shape"
      ]
    },
    {
      "cell_type": "code",
      "execution_count": 107,
      "metadata": {
        "colab": {
          "base_uri": "https://localhost:8080/"
        },
        "id": "KDnxTiwUordB",
        "outputId": "24eb9a76-ec91-46e9-92b7-397d4adaa25f"
      },
      "outputs": [
        {
          "name": "stdout",
          "output_type": "stream",
          "text": [
            "Filas = 20000\n",
            "Nro de usuarios unicos =  1540\n",
            "Nro de productos unicos =  13269\n"
          ]
        }
      ],
      "source": [
        "print('Filas =', len(data))\n",
        "print('Nro de usuarios unicos = ', data['user_id'].nunique())\n",
        "print('Nro de productos unicos = ', data['prod_id'].nunique())"
      ]
    },
    {
      "cell_type": "markdown",
      "metadata": {
        "id": "7dzfbm7tw1YJ"
      },
      "source": [
        "# Recomendación por productos calientes (muy vendidos/recomendados)"
      ]
    },
    {
      "cell_type": "code",
      "execution_count": 108,
      "metadata": {
        "colab": {
          "base_uri": "https://localhost:8080/",
          "height": 237
        },
        "id": "me4iOm2ow9Yx",
        "outputId": "8c2ba921-f35a-4e1a-8bf1-fb7e3cbdefeb"
      },
      "outputs": [
        {
          "data": {
            "text/html": [
              "<div>\n",
              "<style scoped>\n",
              "    .dataframe tbody tr th:only-of-type {\n",
              "        vertical-align: middle;\n",
              "    }\n",
              "\n",
              "    .dataframe tbody tr th {\n",
              "        vertical-align: top;\n",
              "    }\n",
              "\n",
              "    .dataframe thead th {\n",
              "        text-align: right;\n",
              "    }\n",
              "</style>\n",
              "<table border=\"1\" class=\"dataframe\">\n",
              "  <thead>\n",
              "    <tr style=\"text-align: right;\">\n",
              "      <th></th>\n",
              "      <th>avg_rating</th>\n",
              "      <th>rating_count</th>\n",
              "    </tr>\n",
              "    <tr>\n",
              "      <th>prod_id</th>\n",
              "      <th></th>\n",
              "      <th></th>\n",
              "    </tr>\n",
              "  </thead>\n",
              "  <tbody>\n",
              "    <tr>\n",
              "      <th>25446</th>\n",
              "      <td>5.0</td>\n",
              "      <td>1</td>\n",
              "    </tr>\n",
              "    <tr>\n",
              "      <th>45036</th>\n",
              "      <td>5.0</td>\n",
              "      <td>2</td>\n",
              "    </tr>\n",
              "    <tr>\n",
              "      <th>44999</th>\n",
              "      <td>5.0</td>\n",
              "      <td>1</td>\n",
              "    </tr>\n",
              "    <tr>\n",
              "      <th>45006</th>\n",
              "      <td>5.0</td>\n",
              "      <td>1</td>\n",
              "    </tr>\n",
              "    <tr>\n",
              "      <th>20480</th>\n",
              "      <td>5.0</td>\n",
              "      <td>1</td>\n",
              "    </tr>\n",
              "  </tbody>\n",
              "</table>\n",
              "</div>"
            ],
            "text/plain": [
              "         avg_rating  rating_count\n",
              "prod_id                          \n",
              "25446           5.0             1\n",
              "45036           5.0             2\n",
              "44999           5.0             1\n",
              "45006           5.0             1\n",
              "20480           5.0             1"
            ]
          },
          "execution_count": 108,
          "metadata": {},
          "output_type": "execute_result"
        }
      ],
      "source": [
        "# Rating pormedio por producto\n",
        "average_rating = data.groupby('prod_id').mean()['rating']\n",
        "\n",
        "# Cantidad de ratings por producto\n",
        "count_rating = data.groupby('prod_id').count()['rating']\n",
        "\n",
        "final_rating = pd.DataFrame({'avg_rating':average_rating, 'rating_count':count_rating})\n",
        "\n",
        "final_rating = final_rating.sort_values(by='avg_rating',ascending=False)\n",
        "\n",
        "final_rating.head()"
      ]
    },
    {
      "cell_type": "code",
      "execution_count": 109,
      "metadata": {
        "id": "OhUAXTtgw-8Q"
      },
      "outputs": [],
      "source": [
        "# traer los top_n productos con cierto nivel minimo de interacciones \n",
        "def top_n_products(final_rating, top_n, interacciones_minimas):\n",
        "\n",
        "    recommendaciones = final_rating[final_rating['rating_count']>interacciones_minimas]\n",
        "\n",
        "    # ordenar los rdos\n",
        "    recommendaciones = recommendaciones.sort_values('avg_rating',ascending=False)\n",
        "\n",
        "    return recommendaciones.index[:top_n]"
      ]
    },
    {
      "cell_type": "markdown",
      "metadata": {
        "id": "wem_XKyUxGEw"
      },
      "source": [
        "## Recomendar los 5 productos con mejor calificacion y mas de 50 interacciones"
      ]
    },
    {
      "cell_type": "code",
      "execution_count": 110,
      "metadata": {},
      "outputs": [
        {
          "data": {
            "text/plain": [
              "Int64Index([], dtype='int64', name='prod_id')"
            ]
          },
          "execution_count": 110,
          "metadata": {},
          "output_type": "execute_result"
        }
      ],
      "source": [
        "top_n_products(final_rating, 5, 50)"
      ]
    },
    {
      "cell_type": "code",
      "execution_count": 111,
      "metadata": {
        "colab": {
          "base_uri": "https://localhost:8080/"
        },
        "id": "5Tp7b5ByxCl4",
        "outputId": "030923b7-3903-45e1-dbb8-49c91dbeb65a"
      },
      "outputs": [
        {
          "data": {
            "text/plain": [
              "[]"
            ]
          },
          "execution_count": 111,
          "metadata": {},
          "output_type": "execute_result"
        }
      ],
      "source": [
        "list(top_n_products(final_rating, 5, 50))"
      ]
    },
    {
      "cell_type": "code",
      "execution_count": 112,
      "metadata": {},
      "outputs": [],
      "source": [
        "for i in list(top_n_products(final_rating, 5, 50)):\n",
        "    print(i)\n",
        "    print(final_rating.loc[final_rating.index == i, ['avg_rating']].values[0])\n",
        "    print(final_rating.loc[final_rating.index == i, ['rating_count']].values[0])"
      ]
    },
    {
      "cell_type": "markdown",
      "metadata": {
        "id": "1dMFKudcxJW5"
      },
      "source": [
        "## Recomendar los 5 productos con mejor calificacion y mas de 100 interacciones"
      ]
    },
    {
      "cell_type": "code",
      "execution_count": 113,
      "metadata": {
        "colab": {
          "base_uri": "https://localhost:8080/"
        },
        "id": "-3lUEc76xL_Y",
        "outputId": "a4e4ec84-a9b0-4900-a105-26c073637433"
      },
      "outputs": [
        {
          "data": {
            "text/plain": [
              "[]"
            ]
          },
          "execution_count": 113,
          "metadata": {},
          "output_type": "execute_result"
        }
      ],
      "source": [
        "list(top_n_products(final_rating, 5, 100))"
      ]
    },
    {
      "cell_type": "markdown",
      "metadata": {
        "id": "2ykt7MfyXw1d"
      },
      "source": [
        "# Recomendación por Collaborative Filtering"
      ]
    },
    {
      "cell_type": "markdown",
      "metadata": {},
      "source": [
        "Se basa en la suposición de que a las personas les gustan cosas similares a otras cosas que les gustan, y cosas que son apreciadas por otras personas con gustos similares. Principalmente, existen dos tipos: a) Usuario-Usuario b) Ítem-Ítem."
      ]
    },
    {
      "cell_type": "markdown",
      "metadata": {},
      "source": [
        "### Matriz de ratings (usuarios x producto)"
      ]
    },
    {
      "cell_type": "markdown",
      "metadata": {},
      "source": [
        "Se crea una matriz cruzando productos y usuarios, teniendo como valores los ratings que cada usuario le dio a cada producto. \n",
        "\n",
        "Se calcula para determinar la densidad de valores no vacíos en la matriz.\n",
        "\n",
        "La densidad proporciona una medida de qué tan completa está la matriz en términos de valores no vacíos en comparación con su capacidad total."
      ]
    },
    {
      "cell_type": "code",
      "execution_count": 114,
      "metadata": {},
      "outputs": [
        {
          "name": "stdout",
          "output_type": "stream",
          "text": [
            "Shape primera matriz:  (1540, 13269)\n",
            "Numero de ratings no vacios =  20000\n",
            "Espacios totales de la matriz =  20434260\n",
            "Densidad = 0.10%\n"
          ]
        },
        {
          "data": {
            "text/html": [
              "<div>\n",
              "<style scoped>\n",
              "    .dataframe tbody tr th:only-of-type {\n",
              "        vertical-align: middle;\n",
              "    }\n",
              "\n",
              "    .dataframe tbody tr th {\n",
              "        vertical-align: top;\n",
              "    }\n",
              "\n",
              "    .dataframe thead th {\n",
              "        text-align: right;\n",
              "    }\n",
              "</style>\n",
              "<table border=\"1\" class=\"dataframe\">\n",
              "  <thead>\n",
              "    <tr style=\"text-align: right;\">\n",
              "      <th>prod_id</th>\n",
              "      <th>1</th>\n",
              "      <th>3</th>\n",
              "      <th>4</th>\n",
              "      <th>6</th>\n",
              "      <th>7</th>\n",
              "      <th>10</th>\n",
              "      <th>12</th>\n",
              "      <th>16</th>\n",
              "      <th>21</th>\n",
              "      <th>29</th>\n",
              "      <th>...</th>\n",
              "      <th>48156</th>\n",
              "      <th>48158</th>\n",
              "      <th>48164</th>\n",
              "      <th>48166</th>\n",
              "      <th>48168</th>\n",
              "      <th>48173</th>\n",
              "      <th>48174</th>\n",
              "      <th>48175</th>\n",
              "      <th>48177</th>\n",
              "      <th>48184</th>\n",
              "    </tr>\n",
              "    <tr>\n",
              "      <th>user_id</th>\n",
              "      <th></th>\n",
              "      <th></th>\n",
              "      <th></th>\n",
              "      <th></th>\n",
              "      <th></th>\n",
              "      <th></th>\n",
              "      <th></th>\n",
              "      <th></th>\n",
              "      <th></th>\n",
              "      <th></th>\n",
              "      <th></th>\n",
              "      <th></th>\n",
              "      <th></th>\n",
              "      <th></th>\n",
              "      <th></th>\n",
              "      <th></th>\n",
              "      <th></th>\n",
              "      <th></th>\n",
              "      <th></th>\n",
              "      <th></th>\n",
              "      <th></th>\n",
              "    </tr>\n",
              "  </thead>\n",
              "  <tbody>\n",
              "    <tr>\n",
              "      <th>0</th>\n",
              "      <td>0.0</td>\n",
              "      <td>0.0</td>\n",
              "      <td>0.0</td>\n",
              "      <td>0.0</td>\n",
              "      <td>0.0</td>\n",
              "      <td>0.0</td>\n",
              "      <td>0.0</td>\n",
              "      <td>0.0</td>\n",
              "      <td>0.0</td>\n",
              "      <td>0.0</td>\n",
              "      <td>...</td>\n",
              "      <td>0.0</td>\n",
              "      <td>0.0</td>\n",
              "      <td>0.0</td>\n",
              "      <td>0.0</td>\n",
              "      <td>0.0</td>\n",
              "      <td>0.0</td>\n",
              "      <td>0.0</td>\n",
              "      <td>0.0</td>\n",
              "      <td>0.0</td>\n",
              "      <td>0.0</td>\n",
              "    </tr>\n",
              "    <tr>\n",
              "      <th>1</th>\n",
              "      <td>3.0</td>\n",
              "      <td>0.0</td>\n",
              "      <td>0.0</td>\n",
              "      <td>0.0</td>\n",
              "      <td>0.0</td>\n",
              "      <td>0.0</td>\n",
              "      <td>0.0</td>\n",
              "      <td>0.0</td>\n",
              "      <td>0.0</td>\n",
              "      <td>0.0</td>\n",
              "      <td>...</td>\n",
              "      <td>0.0</td>\n",
              "      <td>0.0</td>\n",
              "      <td>0.0</td>\n",
              "      <td>0.0</td>\n",
              "      <td>0.0</td>\n",
              "      <td>0.0</td>\n",
              "      <td>0.0</td>\n",
              "      <td>0.0</td>\n",
              "      <td>0.0</td>\n",
              "      <td>0.0</td>\n",
              "    </tr>\n",
              "    <tr>\n",
              "      <th>2</th>\n",
              "      <td>0.0</td>\n",
              "      <td>0.0</td>\n",
              "      <td>0.0</td>\n",
              "      <td>0.0</td>\n",
              "      <td>0.0</td>\n",
              "      <td>0.0</td>\n",
              "      <td>0.0</td>\n",
              "      <td>0.0</td>\n",
              "      <td>0.0</td>\n",
              "      <td>0.0</td>\n",
              "      <td>...</td>\n",
              "      <td>0.0</td>\n",
              "      <td>0.0</td>\n",
              "      <td>0.0</td>\n",
              "      <td>0.0</td>\n",
              "      <td>0.0</td>\n",
              "      <td>0.0</td>\n",
              "      <td>0.0</td>\n",
              "      <td>0.0</td>\n",
              "      <td>0.0</td>\n",
              "      <td>0.0</td>\n",
              "    </tr>\n",
              "    <tr>\n",
              "      <th>3</th>\n",
              "      <td>0.0</td>\n",
              "      <td>0.0</td>\n",
              "      <td>0.0</td>\n",
              "      <td>0.0</td>\n",
              "      <td>0.0</td>\n",
              "      <td>0.0</td>\n",
              "      <td>0.0</td>\n",
              "      <td>0.0</td>\n",
              "      <td>0.0</td>\n",
              "      <td>0.0</td>\n",
              "      <td>...</td>\n",
              "      <td>0.0</td>\n",
              "      <td>0.0</td>\n",
              "      <td>0.0</td>\n",
              "      <td>0.0</td>\n",
              "      <td>0.0</td>\n",
              "      <td>0.0</td>\n",
              "      <td>0.0</td>\n",
              "      <td>0.0</td>\n",
              "      <td>0.0</td>\n",
              "      <td>0.0</td>\n",
              "    </tr>\n",
              "    <tr>\n",
              "      <th>4</th>\n",
              "      <td>0.0</td>\n",
              "      <td>0.0</td>\n",
              "      <td>0.0</td>\n",
              "      <td>0.0</td>\n",
              "      <td>0.0</td>\n",
              "      <td>0.0</td>\n",
              "      <td>0.0</td>\n",
              "      <td>0.0</td>\n",
              "      <td>0.0</td>\n",
              "      <td>0.0</td>\n",
              "      <td>...</td>\n",
              "      <td>0.0</td>\n",
              "      <td>0.0</td>\n",
              "      <td>0.0</td>\n",
              "      <td>0.0</td>\n",
              "      <td>0.0</td>\n",
              "      <td>0.0</td>\n",
              "      <td>0.0</td>\n",
              "      <td>0.0</td>\n",
              "      <td>0.0</td>\n",
              "      <td>0.0</td>\n",
              "    </tr>\n",
              "  </tbody>\n",
              "</table>\n",
              "<p>5 rows × 13269 columns</p>\n",
              "</div>"
            ],
            "text/plain": [
              "prod_id  1      3      4      6      7      10     12     16     21     29     \\\n",
              "user_id                                                                         \n",
              "0          0.0    0.0    0.0    0.0    0.0    0.0    0.0    0.0    0.0    0.0   \n",
              "1          3.0    0.0    0.0    0.0    0.0    0.0    0.0    0.0    0.0    0.0   \n",
              "2          0.0    0.0    0.0    0.0    0.0    0.0    0.0    0.0    0.0    0.0   \n",
              "3          0.0    0.0    0.0    0.0    0.0    0.0    0.0    0.0    0.0    0.0   \n",
              "4          0.0    0.0    0.0    0.0    0.0    0.0    0.0    0.0    0.0    0.0   \n",
              "\n",
              "prod_id  ...  48156  48158  48164  48166  48168  48173  48174  48175  48177  \\\n",
              "user_id  ...                                                                  \n",
              "0        ...    0.0    0.0    0.0    0.0    0.0    0.0    0.0    0.0    0.0   \n",
              "1        ...    0.0    0.0    0.0    0.0    0.0    0.0    0.0    0.0    0.0   \n",
              "2        ...    0.0    0.0    0.0    0.0    0.0    0.0    0.0    0.0    0.0   \n",
              "3        ...    0.0    0.0    0.0    0.0    0.0    0.0    0.0    0.0    0.0   \n",
              "4        ...    0.0    0.0    0.0    0.0    0.0    0.0    0.0    0.0    0.0   \n",
              "\n",
              "prod_id  48184  \n",
              "user_id         \n",
              "0          0.0  \n",
              "1          0.0  \n",
              "2          0.0  \n",
              "3          0.0  \n",
              "4          0.0  \n",
              "\n",
              "[5 rows x 13269 columns]"
            ]
          },
          "execution_count": 114,
          "metadata": {},
          "output_type": "execute_result"
        }
      ],
      "source": [
        "# Creo la matriz y relleno con 0 los nulos\n",
        "matriz_ratings_final = data.pivot(index = 'user_id', columns ='prod_id', values = 'rating').fillna(0)\n",
        "print('Shape primera matriz: ', matriz_ratings_final.shape)\n",
        "\n",
        "# Cuantos valores no vacios (0) en la matriz\n",
        "numeros_ratings = np.count_nonzero(matriz_ratings_final)\n",
        "print('Numero de ratings no vacios = ', numeros_ratings)\n",
        "\n",
        "# espacios de la matriz\n",
        "num_de_ratings_posibles = matriz_ratings_final.shape[0] * matriz_ratings_final.shape[1]\n",
        "print('Espacios totales de la matriz = ', num_de_ratings_posibles)\n",
        "\n",
        "# Densidad \n",
        "density = (numeros_ratings/num_de_ratings_posibles)\n",
        "density *= 100\n",
        "print ('Densidad = {:4.2f}%'.format(density))\n",
        "\n",
        "matriz_ratings_final.head()"
      ]
    },
    {
      "cell_type": "markdown",
      "metadata": {},
      "source": [
        "Tenemos una matriz con muy pocos valores distintos a 0 (menos de 1% de toda la matriz)"
      ]
    },
    {
      "cell_type": "markdown",
      "metadata": {
        "id": "hXdPQ-0PcUVE"
      },
      "source": [
        "## Basado en usuarios"
      ]
    },
    {
      "cell_type": "markdown",
      "metadata": {
        "id": "JVADHXQHX7_S"
      },
      "source": [
        "Como user_id es tipo de dato object, voy a remplazarlo por un indice numerico para que sea integer. "
      ]
    },
    {
      "cell_type": "code",
      "execution_count": 115,
      "metadata": {
        "colab": {
          "base_uri": "https://localhost:8080/",
          "height": 331
        },
        "id": "CFAS5YaPX9aD",
        "outputId": "a5f2ae4e-478b-410d-de10-2bfacc72134e"
      },
      "outputs": [
        {
          "data": {
            "text/html": [
              "<div>\n",
              "<style scoped>\n",
              "    .dataframe tbody tr th:only-of-type {\n",
              "        vertical-align: middle;\n",
              "    }\n",
              "\n",
              "    .dataframe tbody tr th {\n",
              "        vertical-align: top;\n",
              "    }\n",
              "\n",
              "    .dataframe thead th {\n",
              "        text-align: right;\n",
              "    }\n",
              "</style>\n",
              "<table border=\"1\" class=\"dataframe\">\n",
              "  <thead>\n",
              "    <tr style=\"text-align: right;\">\n",
              "      <th>prod_id</th>\n",
              "      <th>1</th>\n",
              "      <th>3</th>\n",
              "      <th>4</th>\n",
              "      <th>6</th>\n",
              "      <th>7</th>\n",
              "      <th>10</th>\n",
              "      <th>12</th>\n",
              "      <th>16</th>\n",
              "      <th>21</th>\n",
              "      <th>29</th>\n",
              "      <th>...</th>\n",
              "      <th>48156</th>\n",
              "      <th>48158</th>\n",
              "      <th>48164</th>\n",
              "      <th>48166</th>\n",
              "      <th>48168</th>\n",
              "      <th>48173</th>\n",
              "      <th>48174</th>\n",
              "      <th>48175</th>\n",
              "      <th>48177</th>\n",
              "      <th>48184</th>\n",
              "    </tr>\n",
              "    <tr>\n",
              "      <th>user_index</th>\n",
              "      <th></th>\n",
              "      <th></th>\n",
              "      <th></th>\n",
              "      <th></th>\n",
              "      <th></th>\n",
              "      <th></th>\n",
              "      <th></th>\n",
              "      <th></th>\n",
              "      <th></th>\n",
              "      <th></th>\n",
              "      <th></th>\n",
              "      <th></th>\n",
              "      <th></th>\n",
              "      <th></th>\n",
              "      <th></th>\n",
              "      <th></th>\n",
              "      <th></th>\n",
              "      <th></th>\n",
              "      <th></th>\n",
              "      <th></th>\n",
              "      <th></th>\n",
              "    </tr>\n",
              "  </thead>\n",
              "  <tbody>\n",
              "    <tr>\n",
              "      <th>0</th>\n",
              "      <td>0.0</td>\n",
              "      <td>0.0</td>\n",
              "      <td>0.0</td>\n",
              "      <td>0.0</td>\n",
              "      <td>0.0</td>\n",
              "      <td>0.0</td>\n",
              "      <td>0.0</td>\n",
              "      <td>0.0</td>\n",
              "      <td>0.0</td>\n",
              "      <td>0.0</td>\n",
              "      <td>...</td>\n",
              "      <td>0.0</td>\n",
              "      <td>0.0</td>\n",
              "      <td>0.0</td>\n",
              "      <td>0.0</td>\n",
              "      <td>0.0</td>\n",
              "      <td>0.0</td>\n",
              "      <td>0.0</td>\n",
              "      <td>0.0</td>\n",
              "      <td>0.0</td>\n",
              "      <td>0.0</td>\n",
              "    </tr>\n",
              "    <tr>\n",
              "      <th>1</th>\n",
              "      <td>3.0</td>\n",
              "      <td>0.0</td>\n",
              "      <td>0.0</td>\n",
              "      <td>0.0</td>\n",
              "      <td>0.0</td>\n",
              "      <td>0.0</td>\n",
              "      <td>0.0</td>\n",
              "      <td>0.0</td>\n",
              "      <td>0.0</td>\n",
              "      <td>0.0</td>\n",
              "      <td>...</td>\n",
              "      <td>0.0</td>\n",
              "      <td>0.0</td>\n",
              "      <td>0.0</td>\n",
              "      <td>0.0</td>\n",
              "      <td>0.0</td>\n",
              "      <td>0.0</td>\n",
              "      <td>0.0</td>\n",
              "      <td>0.0</td>\n",
              "      <td>0.0</td>\n",
              "      <td>0.0</td>\n",
              "    </tr>\n",
              "    <tr>\n",
              "      <th>2</th>\n",
              "      <td>0.0</td>\n",
              "      <td>0.0</td>\n",
              "      <td>0.0</td>\n",
              "      <td>0.0</td>\n",
              "      <td>0.0</td>\n",
              "      <td>0.0</td>\n",
              "      <td>0.0</td>\n",
              "      <td>0.0</td>\n",
              "      <td>0.0</td>\n",
              "      <td>0.0</td>\n",
              "      <td>...</td>\n",
              "      <td>0.0</td>\n",
              "      <td>0.0</td>\n",
              "      <td>0.0</td>\n",
              "      <td>0.0</td>\n",
              "      <td>0.0</td>\n",
              "      <td>0.0</td>\n",
              "      <td>0.0</td>\n",
              "      <td>0.0</td>\n",
              "      <td>0.0</td>\n",
              "      <td>0.0</td>\n",
              "    </tr>\n",
              "    <tr>\n",
              "      <th>3</th>\n",
              "      <td>0.0</td>\n",
              "      <td>0.0</td>\n",
              "      <td>0.0</td>\n",
              "      <td>0.0</td>\n",
              "      <td>0.0</td>\n",
              "      <td>0.0</td>\n",
              "      <td>0.0</td>\n",
              "      <td>0.0</td>\n",
              "      <td>0.0</td>\n",
              "      <td>0.0</td>\n",
              "      <td>...</td>\n",
              "      <td>0.0</td>\n",
              "      <td>0.0</td>\n",
              "      <td>0.0</td>\n",
              "      <td>0.0</td>\n",
              "      <td>0.0</td>\n",
              "      <td>0.0</td>\n",
              "      <td>0.0</td>\n",
              "      <td>0.0</td>\n",
              "      <td>0.0</td>\n",
              "      <td>0.0</td>\n",
              "    </tr>\n",
              "    <tr>\n",
              "      <th>4</th>\n",
              "      <td>0.0</td>\n",
              "      <td>0.0</td>\n",
              "      <td>0.0</td>\n",
              "      <td>0.0</td>\n",
              "      <td>0.0</td>\n",
              "      <td>0.0</td>\n",
              "      <td>0.0</td>\n",
              "      <td>0.0</td>\n",
              "      <td>0.0</td>\n",
              "      <td>0.0</td>\n",
              "      <td>...</td>\n",
              "      <td>0.0</td>\n",
              "      <td>0.0</td>\n",
              "      <td>0.0</td>\n",
              "      <td>0.0</td>\n",
              "      <td>0.0</td>\n",
              "      <td>0.0</td>\n",
              "      <td>0.0</td>\n",
              "      <td>0.0</td>\n",
              "      <td>0.0</td>\n",
              "      <td>0.0</td>\n",
              "    </tr>\n",
              "  </tbody>\n",
              "</table>\n",
              "<p>5 rows × 13269 columns</p>\n",
              "</div>"
            ],
            "text/plain": [
              "prod_id     1      3      4      6      7      10     12     16     21     \\\n",
              "user_index                                                                  \n",
              "0             0.0    0.0    0.0    0.0    0.0    0.0    0.0    0.0    0.0   \n",
              "1             3.0    0.0    0.0    0.0    0.0    0.0    0.0    0.0    0.0   \n",
              "2             0.0    0.0    0.0    0.0    0.0    0.0    0.0    0.0    0.0   \n",
              "3             0.0    0.0    0.0    0.0    0.0    0.0    0.0    0.0    0.0   \n",
              "4             0.0    0.0    0.0    0.0    0.0    0.0    0.0    0.0    0.0   \n",
              "\n",
              "prod_id     29     ...  48156  48158  48164  48166  48168  48173  48174  \\\n",
              "user_index         ...                                                    \n",
              "0             0.0  ...    0.0    0.0    0.0    0.0    0.0    0.0    0.0   \n",
              "1             0.0  ...    0.0    0.0    0.0    0.0    0.0    0.0    0.0   \n",
              "2             0.0  ...    0.0    0.0    0.0    0.0    0.0    0.0    0.0   \n",
              "3             0.0  ...    0.0    0.0    0.0    0.0    0.0    0.0    0.0   \n",
              "4             0.0  ...    0.0    0.0    0.0    0.0    0.0    0.0    0.0   \n",
              "\n",
              "prod_id     48175  48177  48184  \n",
              "user_index                       \n",
              "0             0.0    0.0    0.0  \n",
              "1             0.0    0.0    0.0  \n",
              "2             0.0    0.0    0.0  \n",
              "3             0.0    0.0    0.0  \n",
              "4             0.0    0.0    0.0  \n",
              "\n",
              "[5 rows x 13269 columns]"
            ]
          },
          "execution_count": 115,
          "metadata": {},
          "output_type": "execute_result"
        }
      ],
      "source": [
        "matriz_ratings_final['user_index'] = np.arange(0, matriz_ratings_final.shape[0])\n",
        "matriz_ratings_final.set_index(['user_index'], inplace=True)\n",
        "\n",
        "# Matriz con indice\n",
        "matriz_ratings_final.head()"
      ]
    },
    {
      "cell_type": "markdown",
      "metadata": {
        "id": "XF4rlGcsb8-D"
      },
      "source": [
        "### Encontrar usuarios similares en base al score de similitud"
      ]
    },
    {
      "cell_type": "code",
      "execution_count": 116,
      "metadata": {},
      "outputs": [
        {
          "data": {
            "text/plain": [
              "Index(['user_id', 'prod_id', 'rating'], dtype='object')"
            ]
          },
          "execution_count": 116,
          "metadata": {},
          "output_type": "execute_result"
        }
      ],
      "source": [
        "data.columns"
      ]
    },
    {
      "cell_type": "code",
      "execution_count": 117,
      "metadata": {
        "id": "OlJyXfxTX_I7"
      },
      "outputs": [],
      "source": [
        "def similar_users(user_index, interactions_matrix):\n",
        "    similarity = []\n",
        "    for user in range(0, interactions_matrix.shape[0]): \n",
        "\n",
        "        # le pasamos un usuarioid y buscamos la similitud con el resto\n",
        "        sim = cosine_similarity([interactions_matrix.loc[user_index]], [interactions_matrix.loc[user]])\n",
        "\n",
        "        # guardo los rdos en formato tupla dentro de una lista\n",
        "        similarity.append((user,sim))\n",
        "\n",
        "    similarity.sort(key=lambda x: x[1], reverse=True)\n",
        "    most_similar_users = [tup[0] for tup in similarity] #extraer el usuario de la tupla\n",
        "    similarity_score = [tup[1] for tup in similarity] # extraer el score de similitud\n",
        "\n",
        "    # quito de la lista el mismo usuario que busque\n",
        "    most_similar_users.remove(user_index)\n",
        "    similarity_score.remove(similarity_score[0])\n",
        "\n",
        "    return most_similar_users, similarity_score"
      ]
    },
    {
      "cell_type": "code",
      "execution_count": 118,
      "metadata": {},
      "outputs": [],
      "source": [
        "def similar_users(user_index, interactions_matrix):\n",
        "    similarity = []\n",
        "\n",
        "    for user in range(interactions_matrix.shape[0]):\n",
        "        # le pasamos un usuarioid y buscamos la similitud con el resto\n",
        "        sim = cosine_similarity([interactions_matrix.loc[user_index]], [interactions_matrix.loc[user]])[0][0]\n",
        "\n",
        "        # guardo los rdos en formato tupla dentro de una lista\n",
        "        similarity.append((user, sim))\n",
        "\n",
        "    similarity.sort(key=lambda x: x[1], reverse=True)\n",
        "    \n",
        "    # Extract user index and similarity score from the sorted list\n",
        "    most_similar_users = [tup[0] for tup in similarity]#extraer el usuario de la tupla\n",
        "    similarity_score = [tup[1] for tup in similarity]# extraer el score de similitud\n",
        "\n",
        "    # quito de la lista el mismo usuario que busque\n",
        "    most_similar_users.remove(user_index)\n",
        "    similarity_score.remove(similarity_score[0])\n",
        "\n",
        "    # Guardo en data\n",
        "    result_df = pd.DataFrame({'UserIndex': most_similar_users, 'SimilarityScore': similarity_score})\n",
        "\n",
        "    return result_df"
      ]
    },
    {
      "cell_type": "markdown",
      "metadata": {
        "id": "t8YQa3aSYDQc"
      },
      "source": [
        "#### Top 10 usuarios por similitud"
      ]
    },
    {
      "cell_type": "code",
      "execution_count": 119,
      "metadata": {
        "colab": {
          "base_uri": "https://localhost:8080/"
        },
        "id": "BevLPijqYFYK",
        "outputId": "1d04cdab-d446-4726-b85b-99eb2f94a316"
      },
      "outputs": [
        {
          "data": {
            "text/html": [
              "<div>\n",
              "<style scoped>\n",
              "    .dataframe tbody tr th:only-of-type {\n",
              "        vertical-align: middle;\n",
              "    }\n",
              "\n",
              "    .dataframe tbody tr th {\n",
              "        vertical-align: top;\n",
              "    }\n",
              "\n",
              "    .dataframe thead th {\n",
              "        text-align: right;\n",
              "    }\n",
              "</style>\n",
              "<table border=\"1\" class=\"dataframe\">\n",
              "  <thead>\n",
              "    <tr style=\"text-align: right;\">\n",
              "      <th></th>\n",
              "      <th>UserIndex</th>\n",
              "      <th>SimilarityScore</th>\n",
              "    </tr>\n",
              "  </thead>\n",
              "  <tbody>\n",
              "    <tr>\n",
              "      <th>0</th>\n",
              "      <td>350</td>\n",
              "      <td>0.123659</td>\n",
              "    </tr>\n",
              "    <tr>\n",
              "      <th>1</th>\n",
              "      <td>630</td>\n",
              "      <td>0.123659</td>\n",
              "    </tr>\n",
              "    <tr>\n",
              "      <th>2</th>\n",
              "      <td>653</td>\n",
              "      <td>0.121348</td>\n",
              "    </tr>\n",
              "    <tr>\n",
              "      <th>3</th>\n",
              "      <td>778</td>\n",
              "      <td>0.117089</td>\n",
              "    </tr>\n",
              "    <tr>\n",
              "      <th>4</th>\n",
              "      <td>237</td>\n",
              "      <td>0.108137</td>\n",
              "    </tr>\n",
              "    <tr>\n",
              "      <th>5</th>\n",
              "      <td>719</td>\n",
              "      <td>0.095449</td>\n",
              "    </tr>\n",
              "    <tr>\n",
              "      <th>6</th>\n",
              "      <td>360</td>\n",
              "      <td>0.089172</td>\n",
              "    </tr>\n",
              "    <tr>\n",
              "      <th>7</th>\n",
              "      <td>878</td>\n",
              "      <td>0.087811</td>\n",
              "    </tr>\n",
              "    <tr>\n",
              "      <th>8</th>\n",
              "      <td>1291</td>\n",
              "      <td>0.083886</td>\n",
              "    </tr>\n",
              "    <tr>\n",
              "      <th>9</th>\n",
              "      <td>431</td>\n",
              "      <td>0.078303</td>\n",
              "    </tr>\n",
              "  </tbody>\n",
              "</table>\n",
              "</div>"
            ],
            "text/plain": [
              "   UserIndex  SimilarityScore\n",
              "0        350         0.123659\n",
              "1        630         0.123659\n",
              "2        653         0.121348\n",
              "3        778         0.117089\n",
              "4        237         0.108137\n",
              "5        719         0.095449\n",
              "6        360         0.089172\n",
              "7        878         0.087811\n",
              "8       1291         0.083886\n",
              "9        431         0.078303"
            ]
          },
          "execution_count": 119,
          "metadata": {},
          "output_type": "execute_result"
        }
      ],
      "source": [
        "# Usuarios similares al usuario 3\n",
        "similar = similar_users(3,matriz_ratings_final)\n",
        "similar.head(10)"
      ]
    },
    {
      "cell_type": "code",
      "execution_count": 120,
      "metadata": {},
      "outputs": [
        {
          "data": {
            "text/plain": [
              "UserIndex          350.000000\n",
              "SimilarityScore      0.123659\n",
              "Name: 0, dtype: float64"
            ]
          },
          "execution_count": 120,
          "metadata": {},
          "output_type": "execute_result"
        }
      ],
      "source": [
        "similar.iloc[0]"
      ]
    },
    {
      "cell_type": "markdown",
      "metadata": {
        "id": "qXSJzV0EcFcC"
      },
      "source": [
        "### Funcion de recomendacion de productos"
      ]
    },
    {
      "cell_type": "code",
      "execution_count": 121,
      "metadata": {
        "id": "uq6Wzl1kYX3U"
      },
      "outputs": [],
      "source": [
        "#Usando los resultados de similitud de usuario creamos una funcion de recomendacion de productos\n",
        "def recommendations(user_index, num_of_products, interactions_matrix):\n",
        "\n",
        "    # Uso la funcion de usuarios similares, tomo el primero\n",
        "    most_similar_users = similar_users(user_index, interactions_matrix).loc[0]\n",
        "\n",
        "    # Busco los productos del usuario similar\n",
        "    product_ids = set(list(interactions_matrix.columns[np.where(interactions_matrix.loc[user_index] > 0)]))\n",
        "    recommendations = []\n",
        "\n",
        "    observed_interactions = product_ids.copy()\n",
        "    for similar_user in most_similar_users:\n",
        "        if len(recommendations) < num_of_products:\n",
        "\n",
        "            # Busco productos rateados por el usuario similar pero no por el user_id\n",
        "            similar_user_prod_ids = set(list(interactions_matrix.columns[np.where(interactions_matrix.loc[similar_user] > 0)]))\n",
        "            recommendations.extend(list(similar_user_prod_ids.difference(observed_interactions)))\n",
        "            observed_interactions = observed_interactions.union(similar_user_prod_ids)\n",
        "        else:\n",
        "            break\n",
        "\n",
        "    return recommendations[:num_of_products]"
      ]
    },
    {
      "cell_type": "markdown",
      "metadata": {
        "id": "p6IzV6fTYbhW"
      },
      "source": [
        "#### Recomendar 5 productos al usuario 3 basado en similitud "
      ]
    },
    {
      "cell_type": "code",
      "execution_count": 123,
      "metadata": {
        "colab": {
          "base_uri": "https://localhost:8080/"
        },
        "id": "KBF7-RKIYcVL",
        "outputId": "38957d77-0e8e-419a-e958-2e4e835d49ed"
      },
      "outputs": [
        {
          "data": {
            "text/plain": [
              "[37488, 46160, 25554, 26418, 18420]"
            ]
          },
          "execution_count": 123,
          "metadata": {},
          "output_type": "execute_result"
        }
      ],
      "source": [
        "recommendations(350,5,matriz_ratings_final)"
      ]
    },
    {
      "cell_type": "markdown",
      "metadata": {
        "id": "pNxqmWlAYoiK"
      },
      "source": [
        "#### Recommend 5 products to user index 1521 based on similarity based collaborative filtering"
      ]
    },
    {
      "cell_type": "code",
      "execution_count": 124,
      "metadata": {
        "colab": {
          "base_uri": "https://localhost:8080/"
        },
        "id": "Gs0zuFFQYpQi",
        "outputId": "319dcde7-75fd-4978-f790-3e2fc9cff683"
      },
      "outputs": [
        {
          "data": {
            "text/plain": [
              "[12866, 43778, 47081, 29242, 33083]"
            ]
          },
          "execution_count": 124,
          "metadata": {},
          "output_type": "execute_result"
        }
      ],
      "source": [
        "recommendations(1521,5,matriz_ratings_final)"
      ]
    },
    {
      "cell_type": "markdown",
      "metadata": {
        "id": "B9fOdRwUdbKa"
      },
      "source": [
        "# Model based Collaborative Filtering: Singular Value Decomposition"
      ]
    },
    {
      "cell_type": "markdown",
      "metadata": {
        "id": "RXgHZdNYmoKD"
      },
      "source": [
        "## CSR matrix"
      ]
    },
    {
      "cell_type": "code",
      "execution_count": 125,
      "metadata": {
        "id": "6yHPX6rkfeY8"
      },
      "outputs": [],
      "source": [
        "from scipy.sparse import csr_matrix\n",
        "final_ratings_sparse = csr_matrix(matriz_ratings_final.values)\n",
        "\n"
      ]
    },
    {
      "cell_type": "markdown",
      "metadata": {},
      "source": [
        "La función csr_matrix toma como entrada una matriz y la convierte en una representación comprimida, que es eficiente en términos de almacenamiento para matrices dispersas con muchos elementos cero.\n"
      ]
    },
    {
      "cell_type": "markdown",
      "metadata": {
        "id": "K2oQ3Fjlmrs7"
      },
      "source": [
        "## SVD"
      ]
    },
    {
      "cell_type": "code",
      "execution_count": 126,
      "metadata": {
        "id": "D8BDZzhXdhKa"
      },
      "outputs": [],
      "source": [
        "# Singular Value Decomposition\n",
        "U, s, Vt = svds(final_ratings_sparse, k = 50) # k es el numero de features latentes\n",
        "\n",
        "# construir un array diagonal en SVD\n",
        "sigma = np.diag(s)"
      ]
    },
    {
      "cell_type": "markdown",
      "metadata": {},
      "source": [
        "Esta descomposición factoriza la matriz en tres matrices: U (matriz izquierda), s (vector de valores singulares) y Vt (matriz derecha transpuesta). El parámetro k especifica el número de valores singulares (o características latentes) que se deben calcular. En este caso, se ha fijado en 50.\n",
        "\n",
        "Crea una matriz diagonal sigma a partir del vector de valores singulares s. La función np.diag de NumPy toma un vector y lo coloca en una matriz diagonal. En este contexto, sigma se utiliza para representar la matriz diagonal de valores singulares en la descomposición SVD.\n",
        "\n",
        " Este proceso es comúnmente utilizado en técnicas de factorización de matrices para encontrar representaciones latentes de los datos, especialmente en el contexto de sistemas de recomendación."
      ]
    },
    {
      "cell_type": "code",
      "execution_count": 127,
      "metadata": {
        "colab": {
          "base_uri": "https://localhost:8080/"
        },
        "id": "IqVjx_ebfkZD",
        "outputId": "412703cf-e6c6-4322-d1e3-5e45d2a27957"
      },
      "outputs": [
        {
          "data": {
            "text/plain": [
              "(1540, 50)"
            ]
          },
          "execution_count": 127,
          "metadata": {},
          "output_type": "execute_result"
        }
      ],
      "source": [
        "U.shape"
      ]
    },
    {
      "cell_type": "code",
      "execution_count": 128,
      "metadata": {
        "colab": {
          "base_uri": "https://localhost:8080/"
        },
        "id": "i0pbUMYXfnvq",
        "outputId": "af7129f1-371e-454e-80dc-66f960870ef9"
      },
      "outputs": [
        {
          "data": {
            "text/plain": [
              "(50, 50)"
            ]
          },
          "execution_count": 128,
          "metadata": {},
          "output_type": "execute_result"
        }
      ],
      "source": [
        "sigma.shape"
      ]
    },
    {
      "cell_type": "code",
      "execution_count": 129,
      "metadata": {
        "colab": {
          "base_uri": "https://localhost:8080/"
        },
        "id": "9eK_VGtwfoRJ",
        "outputId": "9d84b451-249f-4951-9f17-354e3178da9d"
      },
      "outputs": [
        {
          "data": {
            "text/plain": [
              "(50, 13269)"
            ]
          },
          "execution_count": 129,
          "metadata": {},
          "output_type": "execute_result"
        }
      ],
      "source": [
        "Vt.shape"
      ]
    },
    {
      "cell_type": "code",
      "execution_count": 130,
      "metadata": {},
      "outputs": [
        {
          "data": {
            "image/png": "[encoded data removed]",
            "text/plain": [
              "<Figure size 640x480 with 2 Axes>"
            ]
          },
          "metadata": {},
          "output_type": "display_data"
        }
      ],
      "source": [
        "plt.imshow(sigma)\n",
        "plt.colorbar()\n",
        "plt.show()"
      ]
    },
    {
      "cell_type": "code",
      "execution_count": 131,
      "metadata": {},
      "outputs": [
        {
          "data": {
            "image/png": "[encoded data removed]",
            "text/plain": [
              "<Figure size 640x480 with 2 Axes>"
            ]
          },
          "metadata": {},
          "output_type": "display_data"
        }
      ],
      "source": [
        "plt.imshow(U)\n",
        "plt.colorbar()\n",
        "plt.show()"
      ]
    },
    {
      "cell_type": "markdown",
      "metadata": {
        "id": "BVnvgQkwmvfL"
      },
      "source": [
        "## Predecir ratings"
      ]
    },
    {
      "cell_type": "markdown",
      "metadata": {},
      "source": [
        "Regeneramos la matriz original usando U, Sigma, y Vt. La matriz resultado sera la prediccion de los ratings de cada usuario para todos los productos"
      ]
    },
    {
      "cell_type": "code",
      "execution_count": 132,
      "metadata": {
        "id": "hURsS2H3fuby"
      },
      "outputs": [],
      "source": [
        "users_predicted_ratings = np.dot(np.dot(U, sigma), Vt)\n",
        "\n",
        "# Ratings predichos\n",
        "preds_df = pd.DataFrame(abs(users_predicted_ratings), columns = matriz_ratings_final.columns)\n",
        "preds_df.head()\n",
        "preds_matrix = csr_matrix(preds_df.values)"
      ]
    },
    {
      "cell_type": "markdown",
      "metadata": {
        "id": "jRS4Fndbfx-c"
      },
      "source": [
        "## Funcion para recomendar productos"
      ]
    },
    {
      "cell_type": "code",
      "execution_count": 134,
      "metadata": {
        "id": "IMI2d1sXiILL"
      },
      "outputs": [],
      "source": [
        "def recommend_items(user_index, interactions_matrix, preds_matrix):\n",
        "\n",
        "    # Tomo ratings reales y predichos de las matrices\n",
        "    user_ratings = interactions_matrix[user_index,:].toarray().reshape(-1)\n",
        "    user_predictions = preds_matrix[user_index,:].toarray().reshape(-1)\n",
        "\n",
        "    # Creo un df con ratings reales y predichos en columnas\n",
        "    temp = pd.DataFrame({'user_ratings': user_ratings, 'user_predictions': user_predictions})\n",
        "    temp['Recommended Products'] = np.arange(len(user_ratings))\n",
        "    temp = temp.set_index('Recommended Products')\n",
        "\n",
        "    # Filtro ese data donde los ratings reales son 0, es decir donde el usuario no interactuo con ese producto\n",
        "    temp = temp.loc[temp.user_ratings == 0]\n",
        "\n",
        "    # Recomendando en base a la prediccion de los productos mejor rankeados para un usuario\n",
        "    temp = temp.sort_values('user_predictions',ascending=False) # ordenar por prediccion descendiente \n",
        "    return temp\n"
      ]
    },
    {
      "cell_type": "markdown",
      "metadata": {
        "id": "ni3knh42f5qa"
      },
      "source": [
        "### Recomendar top 5 productos al user id 121"
      ]
    },
    {
      "cell_type": "code",
      "execution_count": 135,
      "metadata": {
        "colab": {
          "base_uri": "https://localhost:8080/"
        },
        "id": "IxLbE4G6f80b",
        "outputId": "9db9e9ee-3999-4a06-9a73-ead583865ded"
      },
      "outputs": [
        {
          "data": {
            "text/html": [
              "<div>\n",
              "<style scoped>\n",
              "    .dataframe tbody tr th:only-of-type {\n",
              "        vertical-align: middle;\n",
              "    }\n",
              "\n",
              "    .dataframe tbody tr th {\n",
              "        vertical-align: top;\n",
              "    }\n",
              "\n",
              "    .dataframe thead th {\n",
              "        text-align: right;\n",
              "    }\n",
              "</style>\n",
              "<table border=\"1\" class=\"dataframe\">\n",
              "  <thead>\n",
              "    <tr style=\"text-align: right;\">\n",
              "      <th></th>\n",
              "      <th>user_ratings</th>\n",
              "      <th>user_predictions</th>\n",
              "    </tr>\n",
              "    <tr>\n",
              "      <th>Recommended Products</th>\n",
              "      <th></th>\n",
              "      <th></th>\n",
              "    </tr>\n",
              "  </thead>\n",
              "  <tbody>\n",
              "    <tr>\n",
              "      <th>8823</th>\n",
              "      <td>0.0</td>\n",
              "      <td>1.550686e+00</td>\n",
              "    </tr>\n",
              "    <tr>\n",
              "      <th>4887</th>\n",
              "      <td>0.0</td>\n",
              "      <td>8.712959e-01</td>\n",
              "    </tr>\n",
              "    <tr>\n",
              "      <th>5414</th>\n",
              "      <td>0.0</td>\n",
              "      <td>8.196739e-01</td>\n",
              "    </tr>\n",
              "    <tr>\n",
              "      <th>567</th>\n",
              "      <td>0.0</td>\n",
              "      <td>8.089861e-01</td>\n",
              "    </tr>\n",
              "    <tr>\n",
              "      <th>5656</th>\n",
              "      <td>0.0</td>\n",
              "      <td>8.038208e-01</td>\n",
              "    </tr>\n",
              "    <tr>\n",
              "      <th>...</th>\n",
              "      <td>...</td>\n",
              "      <td>...</td>\n",
              "    </tr>\n",
              "    <tr>\n",
              "      <th>7339</th>\n",
              "      <td>0.0</td>\n",
              "      <td>2.007048e-20</td>\n",
              "    </tr>\n",
              "    <tr>\n",
              "      <th>13262</th>\n",
              "      <td>0.0</td>\n",
              "      <td>2.007048e-20</td>\n",
              "    </tr>\n",
              "    <tr>\n",
              "      <th>11960</th>\n",
              "      <td>0.0</td>\n",
              "      <td>2.007048e-20</td>\n",
              "    </tr>\n",
              "    <tr>\n",
              "      <th>12371</th>\n",
              "      <td>0.0</td>\n",
              "      <td>1.605639e-20</td>\n",
              "    </tr>\n",
              "    <tr>\n",
              "      <th>4718</th>\n",
              "      <td>0.0</td>\n",
              "      <td>1.605639e-20</td>\n",
              "    </tr>\n",
              "  </tbody>\n",
              "</table>\n",
              "<p>13249 rows × 2 columns</p>\n",
              "</div>"
            ],
            "text/plain": [
              "                      user_ratings  user_predictions\n",
              "Recommended Products                                \n",
              "8823                           0.0      1.550686e+00\n",
              "4887                           0.0      8.712959e-01\n",
              "5414                           0.0      8.196739e-01\n",
              "567                            0.0      8.089861e-01\n",
              "5656                           0.0      8.038208e-01\n",
              "...                            ...               ...\n",
              "7339                           0.0      2.007048e-20\n",
              "13262                          0.0      2.007048e-20\n",
              "11960                          0.0      2.007048e-20\n",
              "12371                          0.0      1.605639e-20\n",
              "4718                           0.0      1.605639e-20\n",
              "\n",
              "[13249 rows x 2 columns]"
            ]
          },
          "execution_count": 135,
          "metadata": {},
          "output_type": "execute_result"
        }
      ],
      "source": [
        "# Ingreso 'user index' y 'num_recommendations' para el usuario\n",
        "recommend_items(121,final_ratings_sparse,preds_matrix)"
      ]
    },
    {
      "cell_type": "markdown",
      "metadata": {
        "id": "th5-d8wFmD9r"
      },
      "source": [
        "## Evaluacion del modelo"
      ]
    },
    {
      "cell_type": "code",
      "execution_count": 136,
      "metadata": {
        "colab": {
          "base_uri": "https://localhost:8080/",
          "height": 331
        },
        "id": "iZYhmD6hmEPz",
        "outputId": "b2c5355a-3e17-4536-ed75-ef854c48be66"
      },
      "outputs": [
        {
          "data": {
            "text/html": [
              "<div>\n",
              "<style scoped>\n",
              "    .dataframe tbody tr th:only-of-type {\n",
              "        vertical-align: middle;\n",
              "    }\n",
              "\n",
              "    .dataframe tbody tr th {\n",
              "        vertical-align: top;\n",
              "    }\n",
              "\n",
              "    .dataframe thead th {\n",
              "        text-align: right;\n",
              "    }\n",
              "</style>\n",
              "<table border=\"1\" class=\"dataframe\">\n",
              "  <thead>\n",
              "    <tr style=\"text-align: right;\">\n",
              "      <th>prod_id</th>\n",
              "      <th>1</th>\n",
              "      <th>3</th>\n",
              "      <th>4</th>\n",
              "      <th>6</th>\n",
              "      <th>7</th>\n",
              "      <th>10</th>\n",
              "      <th>12</th>\n",
              "      <th>16</th>\n",
              "      <th>21</th>\n",
              "      <th>29</th>\n",
              "      <th>...</th>\n",
              "      <th>48156</th>\n",
              "      <th>48158</th>\n",
              "      <th>48164</th>\n",
              "      <th>48166</th>\n",
              "      <th>48168</th>\n",
              "      <th>48173</th>\n",
              "      <th>48174</th>\n",
              "      <th>48175</th>\n",
              "      <th>48177</th>\n",
              "      <th>48184</th>\n",
              "    </tr>\n",
              "    <tr>\n",
              "      <th>user_index</th>\n",
              "      <th></th>\n",
              "      <th></th>\n",
              "      <th></th>\n",
              "      <th></th>\n",
              "      <th></th>\n",
              "      <th></th>\n",
              "      <th></th>\n",
              "      <th></th>\n",
              "      <th></th>\n",
              "      <th></th>\n",
              "      <th></th>\n",
              "      <th></th>\n",
              "      <th></th>\n",
              "      <th></th>\n",
              "      <th></th>\n",
              "      <th></th>\n",
              "      <th></th>\n",
              "      <th></th>\n",
              "      <th></th>\n",
              "      <th></th>\n",
              "      <th></th>\n",
              "    </tr>\n",
              "  </thead>\n",
              "  <tbody>\n",
              "    <tr>\n",
              "      <th>0</th>\n",
              "      <td>0.0</td>\n",
              "      <td>0.0</td>\n",
              "      <td>0.0</td>\n",
              "      <td>0.0</td>\n",
              "      <td>0.0</td>\n",
              "      <td>0.0</td>\n",
              "      <td>0.0</td>\n",
              "      <td>0.0</td>\n",
              "      <td>0.0</td>\n",
              "      <td>0.0</td>\n",
              "      <td>...</td>\n",
              "      <td>0.0</td>\n",
              "      <td>0.0</td>\n",
              "      <td>0.0</td>\n",
              "      <td>0.0</td>\n",
              "      <td>0.0</td>\n",
              "      <td>0.0</td>\n",
              "      <td>0.0</td>\n",
              "      <td>0.0</td>\n",
              "      <td>0.0</td>\n",
              "      <td>0.0</td>\n",
              "    </tr>\n",
              "    <tr>\n",
              "      <th>1</th>\n",
              "      <td>3.0</td>\n",
              "      <td>0.0</td>\n",
              "      <td>0.0</td>\n",
              "      <td>0.0</td>\n",
              "      <td>0.0</td>\n",
              "      <td>0.0</td>\n",
              "      <td>0.0</td>\n",
              "      <td>0.0</td>\n",
              "      <td>0.0</td>\n",
              "      <td>0.0</td>\n",
              "      <td>...</td>\n",
              "      <td>0.0</td>\n",
              "      <td>0.0</td>\n",
              "      <td>0.0</td>\n",
              "      <td>0.0</td>\n",
              "      <td>0.0</td>\n",
              "      <td>0.0</td>\n",
              "      <td>0.0</td>\n",
              "      <td>0.0</td>\n",
              "      <td>0.0</td>\n",
              "      <td>0.0</td>\n",
              "    </tr>\n",
              "    <tr>\n",
              "      <th>2</th>\n",
              "      <td>0.0</td>\n",
              "      <td>0.0</td>\n",
              "      <td>0.0</td>\n",
              "      <td>0.0</td>\n",
              "      <td>0.0</td>\n",
              "      <td>0.0</td>\n",
              "      <td>0.0</td>\n",
              "      <td>0.0</td>\n",
              "      <td>0.0</td>\n",
              "      <td>0.0</td>\n",
              "      <td>...</td>\n",
              "      <td>0.0</td>\n",
              "      <td>0.0</td>\n",
              "      <td>0.0</td>\n",
              "      <td>0.0</td>\n",
              "      <td>0.0</td>\n",
              "      <td>0.0</td>\n",
              "      <td>0.0</td>\n",
              "      <td>0.0</td>\n",
              "      <td>0.0</td>\n",
              "      <td>0.0</td>\n",
              "    </tr>\n",
              "    <tr>\n",
              "      <th>3</th>\n",
              "      <td>0.0</td>\n",
              "      <td>0.0</td>\n",
              "      <td>0.0</td>\n",
              "      <td>0.0</td>\n",
              "      <td>0.0</td>\n",
              "      <td>0.0</td>\n",
              "      <td>0.0</td>\n",
              "      <td>0.0</td>\n",
              "      <td>0.0</td>\n",
              "      <td>0.0</td>\n",
              "      <td>...</td>\n",
              "      <td>0.0</td>\n",
              "      <td>0.0</td>\n",
              "      <td>0.0</td>\n",
              "      <td>0.0</td>\n",
              "      <td>0.0</td>\n",
              "      <td>0.0</td>\n",
              "      <td>0.0</td>\n",
              "      <td>0.0</td>\n",
              "      <td>0.0</td>\n",
              "      <td>0.0</td>\n",
              "    </tr>\n",
              "    <tr>\n",
              "      <th>4</th>\n",
              "      <td>0.0</td>\n",
              "      <td>0.0</td>\n",
              "      <td>0.0</td>\n",
              "      <td>0.0</td>\n",
              "      <td>0.0</td>\n",
              "      <td>0.0</td>\n",
              "      <td>0.0</td>\n",
              "      <td>0.0</td>\n",
              "      <td>0.0</td>\n",
              "      <td>0.0</td>\n",
              "      <td>...</td>\n",
              "      <td>0.0</td>\n",
              "      <td>0.0</td>\n",
              "      <td>0.0</td>\n",
              "      <td>0.0</td>\n",
              "      <td>0.0</td>\n",
              "      <td>0.0</td>\n",
              "      <td>0.0</td>\n",
              "      <td>0.0</td>\n",
              "      <td>0.0</td>\n",
              "      <td>0.0</td>\n",
              "    </tr>\n",
              "  </tbody>\n",
              "</table>\n",
              "<p>5 rows × 13269 columns</p>\n",
              "</div>"
            ],
            "text/plain": [
              "prod_id     1      3      4      6      7      10     12     16     21     \\\n",
              "user_index                                                                  \n",
              "0             0.0    0.0    0.0    0.0    0.0    0.0    0.0    0.0    0.0   \n",
              "1             3.0    0.0    0.0    0.0    0.0    0.0    0.0    0.0    0.0   \n",
              "2             0.0    0.0    0.0    0.0    0.0    0.0    0.0    0.0    0.0   \n",
              "3             0.0    0.0    0.0    0.0    0.0    0.0    0.0    0.0    0.0   \n",
              "4             0.0    0.0    0.0    0.0    0.0    0.0    0.0    0.0    0.0   \n",
              "\n",
              "prod_id     29     ...  48156  48158  48164  48166  48168  48173  48174  \\\n",
              "user_index         ...                                                    \n",
              "0             0.0  ...    0.0    0.0    0.0    0.0    0.0    0.0    0.0   \n",
              "1             0.0  ...    0.0    0.0    0.0    0.0    0.0    0.0    0.0   \n",
              "2             0.0  ...    0.0    0.0    0.0    0.0    0.0    0.0    0.0   \n",
              "3             0.0  ...    0.0    0.0    0.0    0.0    0.0    0.0    0.0   \n",
              "4             0.0  ...    0.0    0.0    0.0    0.0    0.0    0.0    0.0   \n",
              "\n",
              "prod_id     48175  48177  48184  \n",
              "user_index                       \n",
              "0             0.0    0.0    0.0  \n",
              "1             0.0    0.0    0.0  \n",
              "2             0.0    0.0    0.0  \n",
              "3             0.0    0.0    0.0  \n",
              "4             0.0    0.0    0.0  \n",
              "\n",
              "[5 rows x 13269 columns]"
            ]
          },
          "execution_count": 136,
          "metadata": {},
          "output_type": "execute_result"
        }
      ],
      "source": [
        "matriz_ratings_final['user_index'] = np.arange(0, matriz_ratings_final.shape[0])\n",
        "matriz_ratings_final.set_index(['user_index'], inplace=True)\n",
        "\n",
        "# Ratings reales\n",
        "matriz_ratings_final.head()"
      ]
    },
    {
      "cell_type": "code",
      "execution_count": 137,
      "metadata": {
        "colab": {
          "base_uri": "https://localhost:8080/"
        },
        "id": "3cTXMcS0mNni",
        "outputId": "c3d0c15b-e3fc-42ab-a66d-88db90de364c"
      },
      "outputs": [
        {
          "data": {
            "text/plain": [
              "prod_id\n",
              "1    0.001948\n",
              "3    0.003247\n",
              "4    0.005844\n",
              "6    0.003247\n",
              "7    0.000649\n",
              "dtype: float64"
            ]
          },
          "execution_count": 137,
          "metadata": {},
          "output_type": "execute_result"
        }
      ],
      "source": [
        "# ratings promedio\n",
        "average_rating = matriz_ratings_final.mean()\n",
        "average_rating.head()"
      ]
    },
    {
      "cell_type": "code",
      "execution_count": 138,
      "metadata": {
        "colab": {
          "base_uri": "https://localhost:8080/",
          "height": 299
        },
        "id": "-QoOy6c2mQIj",
        "outputId": "fa3504da-4f29-42f5-d747-79f4886b80d6"
      },
      "outputs": [
        {
          "data": {
            "text/html": [
              "<div>\n",
              "<style scoped>\n",
              "    .dataframe tbody tr th:only-of-type {\n",
              "        vertical-align: middle;\n",
              "    }\n",
              "\n",
              "    .dataframe tbody tr th {\n",
              "        vertical-align: top;\n",
              "    }\n",
              "\n",
              "    .dataframe thead th {\n",
              "        text-align: right;\n",
              "    }\n",
              "</style>\n",
              "<table border=\"1\" class=\"dataframe\">\n",
              "  <thead>\n",
              "    <tr style=\"text-align: right;\">\n",
              "      <th>prod_id</th>\n",
              "      <th>1</th>\n",
              "      <th>3</th>\n",
              "      <th>4</th>\n",
              "      <th>6</th>\n",
              "      <th>7</th>\n",
              "      <th>10</th>\n",
              "      <th>12</th>\n",
              "      <th>16</th>\n",
              "      <th>21</th>\n",
              "      <th>29</th>\n",
              "      <th>...</th>\n",
              "      <th>48156</th>\n",
              "      <th>48158</th>\n",
              "      <th>48164</th>\n",
              "      <th>48166</th>\n",
              "      <th>48168</th>\n",
              "      <th>48173</th>\n",
              "      <th>48174</th>\n",
              "      <th>48175</th>\n",
              "      <th>48177</th>\n",
              "      <th>48184</th>\n",
              "    </tr>\n",
              "  </thead>\n",
              "  <tbody>\n",
              "    <tr>\n",
              "      <th>0</th>\n",
              "      <td>0.029801</td>\n",
              "      <td>0.000208</td>\n",
              "      <td>0.001361</td>\n",
              "      <td>0.000845</td>\n",
              "      <td>1.310885e-05</td>\n",
              "      <td>0.000103</td>\n",
              "      <td>0.000947</td>\n",
              "      <td>0.000963</td>\n",
              "      <td>0.000574</td>\n",
              "      <td>0.001001</td>\n",
              "      <td>...</td>\n",
              "      <td>0.000657</td>\n",
              "      <td>0.000221</td>\n",
              "      <td>0.009524</td>\n",
              "      <td>3.699021e-21</td>\n",
              "      <td>0.007971</td>\n",
              "      <td>0.003983</td>\n",
              "      <td>0.004422</td>\n",
              "      <td>0.016486</td>\n",
              "      <td>0.000782</td>\n",
              "      <td>0.012223</td>\n",
              "    </tr>\n",
              "    <tr>\n",
              "      <th>1</th>\n",
              "      <td>0.143170</td>\n",
              "      <td>0.000238</td>\n",
              "      <td>0.001413</td>\n",
              "      <td>0.001180</td>\n",
              "      <td>5.129737e-05</td>\n",
              "      <td>0.001180</td>\n",
              "      <td>0.016162</td>\n",
              "      <td>0.005780</td>\n",
              "      <td>0.001784</td>\n",
              "      <td>0.011946</td>\n",
              "      <td>...</td>\n",
              "      <td>0.004812</td>\n",
              "      <td>0.012978</td>\n",
              "      <td>0.001250</td>\n",
              "      <td>3.053583e-21</td>\n",
              "      <td>0.037976</td>\n",
              "      <td>0.013163</td>\n",
              "      <td>0.018238</td>\n",
              "      <td>0.127250</td>\n",
              "      <td>0.005807</td>\n",
              "      <td>0.010658</td>\n",
              "    </tr>\n",
              "    <tr>\n",
              "      <th>2</th>\n",
              "      <td>0.000319</td>\n",
              "      <td>0.000122</td>\n",
              "      <td>0.002034</td>\n",
              "      <td>0.000061</td>\n",
              "      <td>5.678905e-07</td>\n",
              "      <td>0.003117</td>\n",
              "      <td>0.001991</td>\n",
              "      <td>0.000453</td>\n",
              "      <td>0.000020</td>\n",
              "      <td>0.000462</td>\n",
              "      <td>...</td>\n",
              "      <td>0.000369</td>\n",
              "      <td>0.002537</td>\n",
              "      <td>0.015359</td>\n",
              "      <td>1.984215e-21</td>\n",
              "      <td>0.007361</td>\n",
              "      <td>0.000763</td>\n",
              "      <td>0.002477</td>\n",
              "      <td>0.010810</td>\n",
              "      <td>0.000113</td>\n",
              "      <td>0.001293</td>\n",
              "    </tr>\n",
              "    <tr>\n",
              "      <th>3</th>\n",
              "      <td>0.000268</td>\n",
              "      <td>0.000201</td>\n",
              "      <td>0.000030</td>\n",
              "      <td>0.000352</td>\n",
              "      <td>2.210788e-05</td>\n",
              "      <td>0.006450</td>\n",
              "      <td>0.027101</td>\n",
              "      <td>0.033666</td>\n",
              "      <td>0.000032</td>\n",
              "      <td>0.000915</td>\n",
              "      <td>...</td>\n",
              "      <td>0.007571</td>\n",
              "      <td>0.012427</td>\n",
              "      <td>0.010401</td>\n",
              "      <td>2.281758e-21</td>\n",
              "      <td>0.028291</td>\n",
              "      <td>0.015869</td>\n",
              "      <td>0.050558</td>\n",
              "      <td>0.026038</td>\n",
              "      <td>0.003830</td>\n",
              "      <td>0.012379</td>\n",
              "    </tr>\n",
              "    <tr>\n",
              "      <th>4</th>\n",
              "      <td>0.001448</td>\n",
              "      <td>0.000426</td>\n",
              "      <td>0.002060</td>\n",
              "      <td>0.000196</td>\n",
              "      <td>1.336639e-05</td>\n",
              "      <td>0.000671</td>\n",
              "      <td>0.004428</td>\n",
              "      <td>0.006793</td>\n",
              "      <td>0.000065</td>\n",
              "      <td>0.000406</td>\n",
              "      <td>...</td>\n",
              "      <td>0.000745</td>\n",
              "      <td>0.000924</td>\n",
              "      <td>0.013714</td>\n",
              "      <td>1.569940e-20</td>\n",
              "      <td>0.014436</td>\n",
              "      <td>0.026800</td>\n",
              "      <td>0.013787</td>\n",
              "      <td>0.011581</td>\n",
              "      <td>0.010856</td>\n",
              "      <td>0.005410</td>\n",
              "    </tr>\n",
              "  </tbody>\n",
              "</table>\n",
              "<p>5 rows × 13269 columns</p>\n",
              "</div>"
            ],
            "text/plain": [
              "prod_id     1         3         4         6             7         10     \\\n",
              "0        0.029801  0.000208  0.001361  0.000845  1.310885e-05  0.000103   \n",
              "1        0.143170  0.000238  0.001413  0.001180  5.129737e-05  0.001180   \n",
              "2        0.000319  0.000122  0.002034  0.000061  5.678905e-07  0.003117   \n",
              "3        0.000268  0.000201  0.000030  0.000352  2.210788e-05  0.006450   \n",
              "4        0.001448  0.000426  0.002060  0.000196  1.336639e-05  0.000671   \n",
              "\n",
              "prod_id     12        16        21        29     ...     48156     48158  \\\n",
              "0        0.000947  0.000963  0.000574  0.001001  ...  0.000657  0.000221   \n",
              "1        0.016162  0.005780  0.001784  0.011946  ...  0.004812  0.012978   \n",
              "2        0.001991  0.000453  0.000020  0.000462  ...  0.000369  0.002537   \n",
              "3        0.027101  0.033666  0.000032  0.000915  ...  0.007571  0.012427   \n",
              "4        0.004428  0.006793  0.000065  0.000406  ...  0.000745  0.000924   \n",
              "\n",
              "prod_id     48164         48166     48168     48173     48174     48175  \\\n",
              "0        0.009524  3.699021e-21  0.007971  0.003983  0.004422  0.016486   \n",
              "1        0.001250  3.053583e-21  0.037976  0.013163  0.018238  0.127250   \n",
              "2        0.015359  1.984215e-21  0.007361  0.000763  0.002477  0.010810   \n",
              "3        0.010401  2.281758e-21  0.028291  0.015869  0.050558  0.026038   \n",
              "4        0.013714  1.569940e-20  0.014436  0.026800  0.013787  0.011581   \n",
              "\n",
              "prod_id     48177     48184  \n",
              "0        0.000782  0.012223  \n",
              "1        0.005807  0.010658  \n",
              "2        0.000113  0.001293  \n",
              "3        0.003830  0.012379  \n",
              "4        0.010856  0.005410  \n",
              "\n",
              "[5 rows x 13269 columns]"
            ]
          },
          "execution_count": 138,
          "metadata": {},
          "output_type": "execute_result"
        }
      ],
      "source": [
        "# ratings predichos\n",
        "preds_df.head()"
      ]
    },
    {
      "cell_type": "code",
      "execution_count": 139,
      "metadata": {
        "colab": {
          "base_uri": "https://localhost:8080/"
        },
        "id": "r19iVskYmTSV",
        "outputId": "d6a6540b-2d6f-4d9b-a27f-a2b783454a51"
      },
      "outputs": [
        {
          "data": {
            "text/plain": [
              "prod_id\n",
              "1    0.004815\n",
              "3    0.000324\n",
              "4    0.002729\n",
              "6    0.001530\n",
              "7    0.000013\n",
              "dtype: float64"
            ]
          },
          "execution_count": 139,
          "metadata": {},
          "output_type": "execute_result"
        }
      ],
      "source": [
        "# promedios de ratings predichos\n",
        "avg_preds=preds_df.mean()\n",
        "avg_preds.head()"
      ]
    },
    {
      "cell_type": "code",
      "execution_count": 140,
      "metadata": {
        "colab": {
          "base_uri": "https://localhost:8080/",
          "height": 237
        },
        "id": "5Aeap4h2mVTM",
        "outputId": "ccc881df-f14a-4d8c-fdb2-0e9efa7f9de7"
      },
      "outputs": [
        {
          "data": {
            "text/html": [
              "<div>\n",
              "<style scoped>\n",
              "    .dataframe tbody tr th:only-of-type {\n",
              "        vertical-align: middle;\n",
              "    }\n",
              "\n",
              "    .dataframe tbody tr th {\n",
              "        vertical-align: top;\n",
              "    }\n",
              "\n",
              "    .dataframe thead th {\n",
              "        text-align: right;\n",
              "    }\n",
              "</style>\n",
              "<table border=\"1\" class=\"dataframe\">\n",
              "  <thead>\n",
              "    <tr style=\"text-align: right;\">\n",
              "      <th></th>\n",
              "      <th>Avg_actual_ratings</th>\n",
              "      <th>Avg_predicted_ratings</th>\n",
              "    </tr>\n",
              "    <tr>\n",
              "      <th>prod_id</th>\n",
              "      <th></th>\n",
              "      <th></th>\n",
              "    </tr>\n",
              "  </thead>\n",
              "  <tbody>\n",
              "    <tr>\n",
              "      <th>1</th>\n",
              "      <td>0.001948</td>\n",
              "      <td>0.004815</td>\n",
              "    </tr>\n",
              "    <tr>\n",
              "      <th>3</th>\n",
              "      <td>0.003247</td>\n",
              "      <td>0.000324</td>\n",
              "    </tr>\n",
              "    <tr>\n",
              "      <th>4</th>\n",
              "      <td>0.005844</td>\n",
              "      <td>0.002729</td>\n",
              "    </tr>\n",
              "    <tr>\n",
              "      <th>6</th>\n",
              "      <td>0.003247</td>\n",
              "      <td>0.001530</td>\n",
              "    </tr>\n",
              "    <tr>\n",
              "      <th>7</th>\n",
              "      <td>0.000649</td>\n",
              "      <td>0.000013</td>\n",
              "    </tr>\n",
              "  </tbody>\n",
              "</table>\n",
              "</div>"
            ],
            "text/plain": [
              "         Avg_actual_ratings  Avg_predicted_ratings\n",
              "prod_id                                           \n",
              "1                  0.001948               0.004815\n",
              "3                  0.003247               0.000324\n",
              "4                  0.005844               0.002729\n",
              "6                  0.003247               0.001530\n",
              "7                  0.000649               0.000013"
            ]
          },
          "execution_count": 140,
          "metadata": {},
          "output_type": "execute_result"
        }
      ],
      "source": [
        "# voy a comparar los promedios entre lo predicho y lo real para calcular el error\n",
        "rmse_df = pd.concat([average_rating, avg_preds], axis=1)\n",
        "\n",
        "rmse_df.columns = ['Avg_actual_ratings', 'Avg_predicted_ratings']\n",
        "\n",
        "rmse_df.head()"
      ]
    },
    {
      "cell_type": "markdown",
      "metadata": {},
      "source": [
        "calcular el error cuadrático medio entre las calificaciones reales (Avg_actual_ratings) y las calificaciones predichas (Avg_predicted_ratings). El parámetro squared=False se utiliza para obtener la raíz cuadrada del error cuadrático medio en lugar del error cuadrático medio sin la raíz cuadrada."
      ]
    },
    {
      "cell_type": "code",
      "execution_count": 141,
      "metadata": {
        "colab": {
          "base_uri": "https://localhost:8080/"
        },
        "id": "l9HPwqQwmWoq",
        "outputId": "e1c1c435-f583-4d1c-d34a-432366cef52f"
      },
      "outputs": [
        {
          "name": "stdout",
          "output_type": "stream",
          "text": [
            "RMSE SVD Model = 0.007575785270351369\n"
          ]
        }
      ],
      "source": [
        "\n",
        "RMSE= mean_squared_error(rmse_df['Avg_actual_ratings'], rmse_df['Avg_predicted_ratings'], squared=False)\n",
        "print(f'RMSE SVD Model = {RMSE}')"
      ]
    },
    {
      "cell_type": "markdown",
      "metadata": {},
      "source": [
        "Error Cuadrático Medio (MSE): El MSE es una medida que calcula el promedio de los cuadrados de las diferencias entre los valores reales y los valores predichos.\n",
        "\n",
        "Raíz Cuadrada del Error Cuadrático Medio (RMSE): El RMSE es simplemente la raíz cuadrada del MSE.\n",
        " \n",
        "El RMSE tiene la ventaja de estar en la misma escala que la variable de interés (en este caso, las calificaciones) y, por lo tanto, es más interpretable.\n",
        "\n",
        "En el contexto de modelos de recomendación, el RMSE se utiliza para medir cuán bien las calificaciones predichas por el modelo coinciden con las calificaciones reales. Un valor más bajo de RMSE indica que el modelo tiene un mejor rendimiento en términos de predicciones precisas.\n",
        "\n",
        "En resumen, el RMSE es una métrica que proporciona una medida cuantitativa de la precisión de un modelo al comparar las predicciones del modelo con los valores reales."
      ]
    }
  ],
  "metadata": {
    "accelerator": "GPU",
    "colab": {
      "collapsed_sections": [
        "7dzfbm7tw1YJ"
      ],
      "gpuType": "T4",
      "provenance": []
    },
    "gpuClass": "standard",
    "kernelspec": {
      "display_name": "Python 3",
      "name": "python3"
    },
    "language_info": {
      "codemirror_mode": {
        "name": "ipython",
        "version": 3
      },
      "file_extension": ".py",
      "mimetype": "text/x-python",
      "name": "python",
      "nbconvert_exporter": "python",
      "pygments_lexer": "ipython3",
      "version": "3.10.5"
    }
  },
  "nbformat": 4,
  "nbformat_minor": 0
}
