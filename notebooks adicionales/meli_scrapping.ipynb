{
 "cells": [
  {
   "cell_type": "code",
   "execution_count": 1,
   "metadata": {},
   "outputs": [
    {
     "name": "stderr",
     "output_type": "stream",
     "text": [
      "[nltk_data] Downloading package stopwords to\n",
      "[nltk_data]     C:\\Users\\alejo\\AppData\\Roaming\\nltk_data...\n",
      "[nltk_data]   Package stopwords is already up-to-date!\n",
      "[nltk_data] Downloading package punkt to\n",
      "[nltk_data]     C:\\Users\\alejo\\AppData\\Roaming\\nltk_data...\n",
      "[nltk_data]   Package punkt is already up-to-date!\n"
     ]
    },
    {
     "data": {
      "text/plain": [
       "True"
      ]
     },
     "execution_count": 1,
     "metadata": {},
     "output_type": "execute_result"
    }
   ],
   "source": [
    "import time\n",
    "import random\n",
    "import string\n",
    "import requests\n",
    "from bs4 import BeautifulSoup\n",
    "import pandas as pd\n",
    "from nltk.corpus import stopwords\n",
    "from nltk.tokenize import word_tokenize\n",
    "import nltk\n",
    "import warnings\n",
    "warnings.filterwarnings('ignore')\n",
    "import numpy as np\n",
    "nltk.download('stopwords')\n",
    "nltk.download('punkt')\n"
   ]
  },
  {
   "cell_type": "code",
   "execution_count": 2,
   "metadata": {},
   "outputs": [],
   "source": [
    "class Scraper:\n",
    "    def __init__(self, user_input):\n",
    "        self.user_input = user_input\n",
    "        self.data_meli = pd.DataFrame()\n",
    "\n",
    "    def clean_user_input(self):\n",
    "        \n",
    "\n",
    "        # Convertir texto a minusculas\n",
    "        text = self.user_input.lower()\n",
    "\n",
    "        # Quitar puntuación\n",
    "        text = text.translate(str.maketrans(\"\", \"\", string.punctuation))\n",
    "\n",
    "        # Tokenizar el texto\n",
    "        tokens = word_tokenize(text)\n",
    "\n",
    "        # Quitar stopwords\n",
    "        stop_words = set(stopwords.words('english'))\n",
    "        tokens = [word for word in tokens if word.lower() not in stop_words]\n",
    "\n",
    "        # Join the tokens back into a cleaned text\n",
    "        cleaned_text = \" \".join(tokens)\n",
    "\n",
    "        return cleaned_text\n",
    "\n",
    "    def prepare_user_input(self):\n",
    "        cleaned_name = self.user_input.replace(\" \", \"-\").lower()\n",
    "        return cleaned_name\n",
    "\n",
    "    def scraping(self):\n",
    "\n",
    "        cleaned_text = self.clean_user_input()\n",
    "        prep_clean_text = self.prepare_user_input()\n",
    "        urls = ['https://listado.mercadolibre.com.ar/' + prep_clean_text]\n",
    "\n",
    "        page_number = 50\n",
    "        for i in range(0, 5000, 50):\n",
    "            urls.append(f\"https://listado.mercadolibre.com.ar/{prep_clean_text}_Desde_{page_number + 1}_NoIndex_True\")\n",
    "            page_number += 50\n",
    "\n",
    "        # Lista para almacenar lo escrapeado\n",
    "        scraped_data = []\n",
    "\n",
    "        # Iterar URL\n",
    "        for i, url in enumerate(urls, start=1):\n",
    "            # Traer el HTML de la pagina\n",
    "            response = requests.get(url)\n",
    "            soup = BeautifulSoup(response.text, 'html.parser')\n",
    "\n",
    "            # agarro los posteos\n",
    "            content = soup.find_all('li', class_='ui-search-layout__item')\n",
    "\n",
    "            # sobre cada posteo se itera para traer el contenido\n",
    "            for post in content:\n",
    "                title = post.find('h2').text\n",
    "                price = post.find('span', class_='andes-money-amount__fraction').text\n",
    "                post_link = post.find(\"a\")[\"href\"]\n",
    "\n",
    "                try:\n",
    "                    brand = post.find('span', class_= 'ui-search-item__brand-discoverability ui-search-item__group__element').text\n",
    "                except:\n",
    "                    brand = '-'\n",
    "\n",
    "                try:\n",
    "                    img_link = post.find(\"img\")[\"data-src\"]\n",
    "                except:\n",
    "                    img_link = post.find(\"img\")[\"src\"]\n",
    "\n",
    "                try:\n",
    "                    post_rvw = post.find(\"span\", class_='ui-search-reviews__rating-number').text\n",
    "                except:\n",
    "                    post_rvw = '0'\n",
    "\n",
    "                try:\n",
    "                    post_rvw_amount = post.find(\"span\", class_='ui-search-reviews__amount').text\n",
    "                except:\n",
    "                    post_rvw_amount = '-'\n",
    "\n",
    "                post_data = {\n",
    "                    \"title\": title,\n",
    "                    \"brand\": brand,\n",
    "                    \"price\": price,\n",
    "                    \"post link\": post_link,\n",
    "                    \"image link\": img_link,\n",
    "                    \"review\": float(post_rvw),\n",
    "                    \"review amount\": post_rvw_amount \n",
    "                }\n",
    "                scraped_data.append(post_data)\n",
    "\n",
    "        self.data_meli = pd.DataFrame(scraped_data)\n",
    "\n"
   ]
  },
  {
   "cell_type": "code",
   "execution_count": 3,
   "metadata": {},
   "outputs": [],
   "source": [
    "user_input = input()\n",
    "scraper = Scraper(user_input)\n",
    "scraper.scraping()\n"
   ]
  },
  {
   "cell_type": "code",
   "execution_count": 4,
   "metadata": {},
   "outputs": [],
   "source": [
    "#scraper.data_meli.to_csv('data\\meli.csv')"
   ]
  },
  {
   "cell_type": "code",
   "execution_count": 10,
   "metadata": {},
   "outputs": [
    {
     "data": {
      "text/html": [
       "<div>\n",
       "<style scoped>\n",
       "    .dataframe tbody tr th:only-of-type {\n",
       "        vertical-align: middle;\n",
       "    }\n",
       "\n",
       "    .dataframe tbody tr th {\n",
       "        vertical-align: top;\n",
       "    }\n",
       "\n",
       "    .dataframe thead th {\n",
       "        text-align: right;\n",
       "    }\n",
       "</style>\n",
       "<table border=\"1\" class=\"dataframe\">\n",
       "  <thead>\n",
       "    <tr style=\"text-align: right;\">\n",
       "      <th></th>\n",
       "      <th>title</th>\n",
       "      <th>brand</th>\n",
       "      <th>price</th>\n",
       "      <th>post link</th>\n",
       "      <th>review</th>\n",
       "      <th>review amount</th>\n",
       "    </tr>\n",
       "  </thead>\n",
       "  <tbody>\n",
       "    <tr>\n",
       "      <th>0</th>\n",
       "      <td>Topper Strong Pace III Hombre Adultos</td>\n",
       "      <td>TOPPER</td>\n",
       "      <td>23.750</td>\n",
       "      <td>https://www.mercadolibre.com.ar/topper-strong-...</td>\n",
       "      <td>4.6</td>\n",
       "      <td>(2239)</td>\n",
       "    </tr>\n",
       "    <tr>\n",
       "      <th>1</th>\n",
       "      <td>Topper X-Forcer Hombre Adultos</td>\n",
       "      <td>TOPPER</td>\n",
       "      <td>25.000</td>\n",
       "      <td>https://www.mercadolibre.com.ar/zapatillas-par...</td>\n",
       "      <td>4.7</td>\n",
       "      <td>(4377)</td>\n",
       "    </tr>\n",
       "    <tr>\n",
       "      <th>2</th>\n",
       "      <td>Zapatillas Topper Gondor I| Negro Monocromo En...</td>\n",
       "      <td>TOPPER</td>\n",
       "      <td>31.250</td>\n",
       "      <td>https://articulo.mercadolibre.com.ar/MLA-11614...</td>\n",
       "      <td>4.6</td>\n",
       "      <td>(440)</td>\n",
       "    </tr>\n",
       "    <tr>\n",
       "      <th>3</th>\n",
       "      <td>Zapatilla Blanca Simil Cuero Fackie-x Niños At...</td>\n",
       "      <td>ATOMIK</td>\n",
       "      <td>30.200</td>\n",
       "      <td>https://articulo.mercadolibre.com.ar/MLA-13957...</td>\n",
       "      <td>5.0</td>\n",
       "      <td>(5)</td>\n",
       "    </tr>\n",
       "    <tr>\n",
       "      <th>4</th>\n",
       "      <td>Zapatilla Negra/turquesa/rojo/azul Nasau-xz Ni...</td>\n",
       "      <td>ATOMIK</td>\n",
       "      <td>23.390</td>\n",
       "      <td>https://articulo.mercadolibre.com.ar/MLA-13957...</td>\n",
       "      <td>5.0</td>\n",
       "      <td>(4)</td>\n",
       "    </tr>\n",
       "  </tbody>\n",
       "</table>\n",
       "</div>"
      ],
      "text/plain": [
       "                                               title   brand   price  \\\n",
       "0              Topper Strong Pace III Hombre Adultos  TOPPER  23.750   \n",
       "1                     Topper X-Forcer Hombre Adultos  TOPPER  25.000   \n",
       "2  Zapatillas Topper Gondor I| Negro Monocromo En...  TOPPER  31.250   \n",
       "3  Zapatilla Blanca Simil Cuero Fackie-x Niños At...  ATOMIK  30.200   \n",
       "4  Zapatilla Negra/turquesa/rojo/azul Nasau-xz Ni...  ATOMIK  23.390   \n",
       "\n",
       "                                           post link  review review amount  \n",
       "0  https://www.mercadolibre.com.ar/topper-strong-...     4.6        (2239)  \n",
       "1  https://www.mercadolibre.com.ar/zapatillas-par...     4.7        (4377)  \n",
       "2  https://articulo.mercadolibre.com.ar/MLA-11614...     4.6         (440)  \n",
       "3  https://articulo.mercadolibre.com.ar/MLA-13957...     5.0           (5)  \n",
       "4  https://articulo.mercadolibre.com.ar/MLA-13957...     5.0           (4)  "
      ]
     },
     "execution_count": 10,
     "metadata": {},
     "output_type": "execute_result"
    }
   ],
   "source": [
    "scraper.data_meli.drop(columns='image link').head()"
   ]
  },
  {
   "cell_type": "code",
   "execution_count": 11,
   "metadata": {},
   "outputs": [
    {
     "data": {
      "text/plain": [
       "(2214, 7)"
      ]
     },
     "execution_count": 11,
     "metadata": {},
     "output_type": "execute_result"
    }
   ],
   "source": [
    "scraper.data_meli.shape"
   ]
  }
 ],
 "metadata": {
  "kernelspec": {
   "display_name": "Python 3",
   "language": "python",
   "name": "python3"
  },
  "language_info": {
   "codemirror_mode": {
    "name": "ipython",
    "version": 3
   },
   "file_extension": ".py",
   "mimetype": "text/x-python",
   "name": "python",
   "nbconvert_exporter": "python",
   "pygments_lexer": "ipython3",
   "version": "3.10.5"
  }
 },
 "nbformat": 4,
 "nbformat_minor": 2
}
